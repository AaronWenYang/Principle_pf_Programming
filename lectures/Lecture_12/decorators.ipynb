{
 "cells": [
  {
   "cell_type": "code",
   "execution_count": 1,
   "metadata": {
    "collapsed": false
   },
   "outputs": [
    {
     "name": "stdout",
     "output_type": "stream",
     "text": [
      "Count nb 1 to <function add_up at 0x0000020D71136B70>\n",
      "8\n",
      "Count nb 2 to <function add_up at 0x0000020D71136B70>\n",
      "22\n",
      "Count nb 3 to <function add_up at 0x0000020D71136B70>\n",
      "38\n"
     ]
    }
   ],
   "source": [
    "class count_calls:\n",
    "    def __init__(self, f):\n",
    "        self.count = 0\n",
    "        self.f = f\n",
    "        \n",
    "    def __call__(self, *args, **kwargs):\n",
    "        self.count += 1\n",
    "        print('Count nb {} to {}'.format(self.count, self.f))\n",
    "        return self.f(*args, **kwargs)\n",
    "\n",
    "\n",
    "# Equivalent to:\n",
    "# add_up = count_calls(add_up)\n",
    "@count_calls\n",
    "def add_up(x, y, *, a, b):\n",
    "    return x + y + a + b\n",
    "\n",
    "print(add_up(1, 2, a = 2, b = 3))\n",
    "print(add_up(4, 5, a = 6, b = 7))\n",
    "print(add_up(8, 9, a = 10, b = 11))"
   ]
  },
  {
   "cell_type": "code",
   "execution_count": 2,
   "metadata": {
    "collapsed": false
   },
   "outputs": [
    {
     "name": "stdout",
     "output_type": "stream",
     "text": [
      "Count nb 1 to <function add_up at 0x0000020D71136C80>\n",
      "8\n",
      "Count nb 2 to <function add_up at 0x0000020D71136C80>\n",
      "22\n",
      "Count nb 3 to <function add_up at 0x0000020D71136C80>\n",
      "38\n"
     ]
    }
   ],
   "source": [
    "def count_calls(f):\n",
    "    count = 0\n",
    "    \n",
    "    def wrap(*args, **kwargs):\n",
    "        nonlocal count\n",
    "        count += 1\n",
    "        print('Count nb {} to {}'.format(count, f))\n",
    "        return f(*args, **kwargs)\n",
    "        \n",
    "    return wrap\n",
    "\n",
    "\n",
    "# Equivalent to:\n",
    "# add_up = count_calls(add_up)\n",
    "@count_calls\n",
    "def add_up(x, y, *, a, b):\n",
    "    return x + y + a + b\n",
    "\n",
    "print(add_up(1, 2, a = 2, b = 3))\n",
    "print(add_up(4, 5, a = 6, b = 7))\n",
    "print(add_up(8, 9, a = 10, b = 11))"
   ]
  },
  {
   "cell_type": "code",
   "execution_count": 3,
   "metadata": {
    "collapsed": false
   },
   "outputs": [
    {
     "name": "stdout",
     "output_type": "stream",
     "text": [
      "Count nb 1 to <class '__main__.C'>\n",
      "Count nb 2 to <class '__main__.C'>\n",
      "Count nb 3 to <class '__main__.C'>\n",
      "11 12 13\n"
     ]
    }
   ],
   "source": [
    "def count_calls(cls):\n",
    "    def wrap(datum):\n",
    "        wrap.count += 1\n",
    "        print('Count nb {} to {}'.format(wrap.count, cls))\n",
    "        return cls(datum)\n",
    "    \n",
    "    wrap.count = 0\n",
    "    return wrap\n",
    "\n",
    "\n",
    "# Equivalent to:\n",
    "# C = count_calls(C)\n",
    "@count_calls\n",
    "class C:\n",
    "    def __init__(self, datum):\n",
    "        self.datum = datum\n",
    "\n",
    "\n",
    "I1, I2, I3 = C(11), C(12), C(13)\n",
    "print(I1.datum, I2.datum, I3.datum)"
   ]
  },
  {
   "cell_type": "code",
   "execution_count": 4,
   "metadata": {
    "collapsed": false
   },
   "outputs": [
    {
     "name": "stdout",
     "output_type": "stream",
     "text": [
      "count_1: 3\n",
      "count_2... 3\n",
      "count_2  3\n"
     ]
    }
   ],
   "source": [
    "class C:\n",
    "    count_1 = 0\n",
    "    count_2 = 0\n",
    "    \n",
    "    def __init__(self):\n",
    "        C.count_1 += 1\n",
    "        C.count_2 += 1\n",
    "    \n",
    "    def display_count_1(mark):\n",
    "        print('count_1' + mark, C.count_1)\n",
    "\n",
    "    # Equivalent to:\n",
    "    # display_count_2 = staticmethod(display_count_2)\n",
    "    @staticmethod\n",
    "    def display_count_2(mark):\n",
    "        print('count_2' + mark, C.count_2)\n",
    "\n",
    "\n",
    "I1, I2, I3 = C(), C(), C()\n",
    "C.display_count_1(':')\n",
    "C.display_count_2('...')\n",
    "I2.display_count_2(' ')"
   ]
  },
  {
   "cell_type": "code",
   "execution_count": null,
   "metadata": {
    "collapsed": false
   },
   "outputs": [],
   "source": [
    "class C:\n",
    "    count = 0\n",
    "    \n",
    "    def __init__(self):\n",
    "        C.count += 1\n",
    "    \n",
    "    # Equivalent to:\n",
    "    # display_count = classmethod(display_count)\n",
    "    @classmethod\n",
    "    def display_count(cls, mark):\n",
    "        print('count for {}'.format(cls.__name__) + mark, C.count)\n",
    "\n",
    "\n",
    "I1, I2, I3 = C(), C(), C()\n",
    "C.display_count('...')\n",
    "I2.display_count(':')"
   ]
  },
  {
   "cell_type": "markdown",
   "metadata": {},
   "source": [
    "A __descriptor__ is any class with at least one of the three methods:\n",
    "* \\_\\_get\\_\\_(self, instance, owner)\n",
    "* \\_\\_set\\_\\_(self, instance, value)\n",
    "* \\_\\_delete\\_\\_(self, instance)"
   ]
  },
  {
   "cell_type": "code",
   "execution_count": null,
   "metadata": {
    "collapsed": false
   },
   "outputs": [],
   "source": [
    "class D:\n",
    "    def __init__(self):\n",
    "        self.datum = 'Descriptor datum'\n",
    "\n",
    "    def __get__(self, instance, owner):\n",
    "        print(self.datum)\n",
    "        print(owner._datum)\n",
    "        return instance._datum\n",
    "        \n",
    "    def __set__(self, instance, value):\n",
    "        self.datum = 'New descriptor datum'\n",
    "        instance._datum = value\n",
    "        \n",
    "    def __delete__(self, instance):\n",
    "        print('Deleting instance datum')\n",
    "        del instance._datum\n",
    "\n",
    "\n",
    "class C:\n",
    "    _datum = 'Owner datum'\n",
    "\n",
    "    def __init__(self):\n",
    "        self._datum = 'Instance datum'\n",
    "\n",
    "    datum = D()\n",
    "\n",
    "\n",
    "I = C()\n",
    "print(I.datum)\n",
    "print()\n",
    "\n",
    "I.datum = 'New instance value'\n",
    "print(I.datum)\n",
    "print()\n",
    "\n",
    "del I.datum\n",
    "print()\n",
    "\n",
    "I = C()\n",
    "print(I.datum)"
   ]
  },
  {
   "cell_type": "code",
   "execution_count": null,
   "metadata": {
    "collapsed": false
   },
   "outputs": [],
   "source": [
    "class C:\n",
    "    def __init__(self, datum):\n",
    "        self._datum = datum\n",
    "    \n",
    "    # Equivalent to:\n",
    "    # datum = property(fget = datum, fset = None, fdel = None, doc = None)\n",
    "    # Using that form would set C.datum.__doc__ to the value of doc;\n",
    "    # with the decorator, that value is instead 'For illustration purposes'.\n",
    "    @property\n",
    "    def datum(self):\n",
    "        'For illustration purposes'\n",
    "        print('You asked for the value of datum')\n",
    "        return self._datum\n",
    "    # C.datum is now a descriptor, with in particular\n",
    "    # - the built-in methods getter, setter and deleter;\n",
    "    # - the functions fget, fset, fdel;\n",
    "    # - the method-wrappers __get__, __set__, __delete__. \n",
    "    # C.datum.__get__ is a method wrapper of C.datum.fget (the function above).\n",
    "\n",
    "    # Equivalent to:\n",
    "    # datum = datum.setter(datum)\n",
    "    # Returns a copy of datum with C.datum.fset assigned the function below.\n",
    "    # C.datum.__set__ is a method wrapper of C.datum.fset.\n",
    "    @datum.setter\n",
    "    def datum(self, value):\n",
    "        print('You want to modify the value of datum')\n",
    "        self._datum = value\n",
    "\n",
    "    # Equivalent to:\n",
    "    # datum = datum.deleter(datum)\n",
    "    # Returns a copy of datum with C.datum.fdel assigned the function below.\n",
    "    # C.datum.__delete__ is a method wrapper of C.datum.fdel.\n",
    "    @datum.deleter\n",
    "    def datum(self):\n",
    "        print('You have decided to delete datum')\n",
    "        del self._datum\n",
    "\n",
    "\n",
    "I = C(3)\n",
    "print(I.datum)\n",
    "\n",
    "print()\n",
    "I.datum = 4\n",
    "print()\n",
    "\n",
    "print(I.datum)\n",
    "print()\n",
    "\n",
    "del I.datum"
   ]
  }
 ],
 "metadata": {
  "kernelspec": {
   "display_name": "Python 3",
   "language": "python",
   "name": "python3"
  },
  "language_info": {
   "codemirror_mode": {
    "name": "ipython",
    "version": 3
   },
   "file_extension": ".py",
   "mimetype": "text/x-python",
   "name": "python",
   "nbconvert_exporter": "python",
   "pygments_lexer": "ipython3",
   "version": "3.5.1"
  }
 },
 "nbformat": 4,
 "nbformat_minor": 0
}
