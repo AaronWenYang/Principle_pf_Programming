{
 "cells": [
  {
   "cell_type": "markdown",
   "metadata": {},
   "source": [
    "<h1 align=\"center\">String module</h1>"
   ]
  },
  {
   "cell_type": "code",
   "execution_count": 3,
   "metadata": {
    "collapsed": false
   },
   "outputs": [
    {
     "name": "stdout",
     "output_type": "stream",
     "text": [
      "abcdefghijklmnopqrstuvwxyzABCDEFGHIJKLMNOPQRSTUVWXYZ\n",
      "abcdefghijklmnopqrstuvwxyz\n",
      "ABCDEFGHIJKLMNOPQRSTUVWXYZ\n",
      "0123456789abcdefABCDEF\n",
      "0123456789\n",
      "01234567\n",
      "!\"#$%&'()*+,-./:;<=>?@[\\]^_`{|}~\n",
      "0123456789abcdefghijklmnopqrstuvwxyzABCDEFGHIJKLMNOPQRSTUVWXYZ!\"#$%&'()*+,-./:;<=>?@[\\]^_`{|}~\n",
      "' \\t\\n\\r\\x0b\\x0c'\n",
      "' \\t\\n\\r\\x0b\\x0c'\n",
      "'0123456789abcdefghijklmnopqrstuvwxyzABCDEFGHIJKLMNOPQRSTUVWXYZ!\"#$%&\\'()*+,-./:;<=>?@[\\\\]^_`{|}~ \\t\\n\\r\\x0b\\x0c'\n"
     ]
    }
   ],
   "source": [
    "import string\n",
    "\n",
    "print(string.ascii_letters)\n",
    "print(string.ascii_lowercase)\n",
    "print(string.ascii_uppercase)\n",
    "print(string.hexdigits)\n",
    "print(string.digits)\n",
    "print(string.octdigits)\n",
    "print(string.punctuation)\n",
    "print(string.printable[: 94])\n",
    "print(ascii(string.printable[94: ]))\n",
    "print(ascii(string.whitespace))\n",
    "print(ascii(string.printable))"
   ]
  },
  {
   "cell_type": "code",
   "execution_count": 2,
   "metadata": {
    "collapsed": false
   },
   "outputs": [
    {
     "name": "stdout",
     "output_type": "stream",
     "text": [
      "A Abc Abc Abc Ab-cd A123, A_$# A*12 1abc _ab\n",
      " \n",
      "\n",
      " \ta_*_Abc  _*_ abc   abc _*_Ab-cd  a123,_*_A_$#  \t\n",
      " \n"
     ]
    }
   ],
   "source": [
    "from string import capwords\n",
    "\n",
    "print(capwords(' \\n\\n \\tA ABC AbC   aBc AB-CD  a123,  A_$#   a*12 1abc _ab  \\t\\n '))\n",
    "print(capwords(' \\n\\n \\tA_*_ABC  _*_ AbC   aBc _*_AB-CD  a123,_*_A_$#  \\t\\n ', sep = '_*_'))"
   ]
  },
  {
   "cell_type": "code",
   "execution_count": null,
   "metadata": {
    "collapsed": true
   },
   "outputs": [],
   "source": []
  }
 ],
 "metadata": {
  "kernelspec": {
   "display_name": "Python 3",
   "language": "python",
   "name": "python3"
  },
  "language_info": {
   "codemirror_mode": {
    "name": "ipython",
    "version": 3
   },
   "file_extension": ".py",
   "mimetype": "text/x-python",
   "name": "python",
   "nbconvert_exporter": "python",
   "pygments_lexer": "ipython3",
   "version": "3.5.1"
  }
 },
 "nbformat": 4,
 "nbformat_minor": 0
}
