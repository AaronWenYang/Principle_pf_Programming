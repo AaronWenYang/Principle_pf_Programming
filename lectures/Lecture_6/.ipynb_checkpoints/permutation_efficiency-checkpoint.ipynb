{
 "cells": [
  {
   "cell_type": "markdown",
   "metadata": {},
   "source": [
    "<h1 align=\"center\">Comparison of 3 permutation algorithms</h1>"
   ]
  },
  {
   "cell_type": "markdown",
   "metadata": {},
   "source": [
    "Inserting elements at the end of a list"
   ]
  },
  {
   "cell_type": "code",
   "execution_count": null,
   "metadata": {
    "collapsed": false
   },
   "outputs": [],
   "source": [
    "%matplotlib inline\n",
    "from matplotlib.pyplot import plot, legend\n",
    "\n",
    "import itertools\n",
    "from time import time\n",
    "import sys\n",
    "sys.setrecursionlimit(10000)\n",
    "\n",
    "# Recursive implementation of Heap's algorithm\n",
    "def recursive_permute(L):\n",
    "    yield from recursive_heap_permute(L, len(L))\n",
    "    \n",
    "def recursive_heap_permute(L, length):\n",
    "    if length <= 1:\n",
    "        yield L\n",
    "    else:\n",
    "        length -= 1\n",
    "        for i in range(length):\n",
    "            yield from recursive_heap_permute(L, length)\n",
    "            if length % 2:\n",
    "                L[i], L[length] = L[length], L[i]\n",
    "            else:\n",
    "                L[0], L[length] = L[length], L[0]\n",
    "        yield from recursive_heap_permute(L, length)\n",
    "\n",
    "# Iterative implementation of Heap's algorithm\n",
    "def iterative_permute(L):\n",
    "    yield L\n",
    "    stack = [(0, i) for i in range(len(L) - 1, 0, -1)]\n",
    "    while stack:\n",
    "        low, high = stack.pop()\n",
    "        if high % 2:\n",
    "            L[low], L[high] = L[high], L[low]\n",
    "        else:\n",
    "            L[0], L[high] = L[high], L[0]\n",
    "        yield L\n",
    "        if low + 1 != high:\n",
    "            stack.append((low + 1, high))\n",
    "        for i in range(high - 1, 0, -1):\n",
    "            stack.append((0, i))\n",
    "\n",
    "# As documentated in the itertools module for its permutations() function.\n",
    "def permutations(iterable, r=None):\n",
    "    pool = tuple(iterable)\n",
    "    n = len(pool)\n",
    "    r = n if r is None else r\n",
    "    indices = list(range(n))\n",
    "    cycles = list(range(n-r+1, n+1)[::-1])\n",
    "    yield tuple(pool[i] for i in indices[:r])\n",
    "    while n:\n",
    "        for i in reversed(range(r)):\n",
    "            cycles[i] -= 1\n",
    "            if cycles[i] == 0:\n",
    "                indices[i:] = indices[i+1:] + indices[i:i+1]\n",
    "                cycles[i] = n - i\n",
    "            else:\n",
    "                j = cycles[i]\n",
    "                indices[i], indices[-j] = indices[-j], indices[i]\n",
    "                yield tuple(pool[i] for i in indices[:r])\n",
    "                break\n",
    "        else:\n",
    "            return\n",
    "\n",
    "\n",
    "data = [], [], [], []\n",
    "for i in range(1, 11):\n",
    "    L = list(range(i))\n",
    "    before = time()\n",
    "    for _ in itertools.permutations(L):\n",
    "        pass\n",
    "    after = time()\n",
    "    data[0].append((i, after - before))\n",
    "\n",
    "    L = list(range(i))\n",
    "    before = time()\n",
    "    for _ in permutations(L):\n",
    "        pass\n",
    "    after = time()\n",
    "    data[1].append((i, after - before))\n",
    "    \n",
    "    L = list(range(i))\n",
    "    before = time()\n",
    "    for _ in recursive_permute(L):\n",
    "        list(_)\n",
    "    after = time()\n",
    "    data[2].append((i, after - before))\n",
    "\n",
    "    L = list(range(i))\n",
    "    before = time()\n",
    "    for _ in iterative_permute(L):\n",
    "        list(_)\n",
    "    after = time()\n",
    "    data[3].append((i, after - before))\n",
    "\n",
    "labels = 'Itertools', 'Itertools doc', 'Heaps Recursive', 'Heaps Iterative'\n",
    "for i in range(4):\n",
    "    plot(*tuple(zip(*data[i])), label = labels[i])\n",
    "legend()\n",
    "print()"
   ]
  },
  {
   "cell_type": "code",
   "execution_count": null,
   "metadata": {
    "collapsed": true
   },
   "outputs": [],
   "source": []
  }
 ],
 "metadata": {
  "kernelspec": {
   "display_name": "Python 3",
   "language": "python",
   "name": "python3"
  },
  "language_info": {
   "codemirror_mode": {
    "name": "ipython",
    "version": 3
   },
   "file_extension": ".py",
   "mimetype": "text/x-python",
   "name": "python",
   "nbconvert_exporter": "python",
   "pygments_lexer": "ipython3",
   "version": "3.5.1"
  }
 },
 "nbformat": 4,
 "nbformat_minor": 0
}
